{
 "cells": [
  {
   "cell_type": "code",
   "execution_count": 51,
   "id": "3231271a",
   "metadata": {},
   "outputs": [
    {
     "name": "stdout",
     "output_type": "stream",
     "text": [
      "Wall time: 0 ns\n"
     ]
    }
   ],
   "source": [
    "%%time\n",
    "#General Libraries\n",
    "import numpy as np\n",
    "import matplotlib.pyplot as plt\n",
    "import pandas as pd\n",
    "import seaborn as sns"
   ]
  },
  {
   "cell_type": "code",
   "execution_count": 52,
   "id": "40929618",
   "metadata": {},
   "outputs": [
    {
     "name": "stdout",
     "output_type": "stream",
     "text": [
      "Wall time: 0 ns\n"
     ]
    }
   ],
   "source": [
    "%%time\n",
    "SEED = 47\n",
    "from sklearn.model_selection import train_test_split\n",
    "\n",
    "\n",
    "from sklearn.metrics import classification_report\n",
    "from sklearn.linear_model import LogisticRegression\n",
    "from sklearn.preprocessing import StandardScaler\n",
    "from sklearn.tree import DecisionTreeClassifier\n",
    "from sklearn.ensemble import RandomForestClassifier\n",
    "from sklearn.naive_bayes import GaussianNB\n",
    "from xgboost import XGBClassifier "
   ]
  },
  {
   "cell_type": "markdown",
   "id": "1a336207",
   "metadata": {},
   "source": [
    "2. Loading Data"
   ]
  },
  {
   "cell_type": "code",
   "execution_count": 53,
   "id": "aa8ac11e",
   "metadata": {},
   "outputs": [
    {
     "name": "stdout",
     "output_type": "stream",
     "text": [
      "Wall time: 54.1 ms\n"
     ]
    },
    {
     "data": {
      "text/html": [
       "<div>\n",
       "<style scoped>\n",
       "    .dataframe tbody tr th:only-of-type {\n",
       "        vertical-align: middle;\n",
       "    }\n",
       "\n",
       "    .dataframe tbody tr th {\n",
       "        vertical-align: top;\n",
       "    }\n",
       "\n",
       "    .dataframe thead th {\n",
       "        text-align: right;\n",
       "    }\n",
       "</style>\n",
       "<table border=\"1\" class=\"dataframe\">\n",
       "  <thead>\n",
       "    <tr style=\"text-align: right;\">\n",
       "      <th></th>\n",
       "      <th>ID</th>\n",
       "      <th>I/O Data Operations</th>\n",
       "      <th>I/O Data Bytes</th>\n",
       "      <th>Number of subprocesses</th>\n",
       "      <th>Time on processor</th>\n",
       "      <th>Disk Reading/sec</th>\n",
       "      <th>Disc Writing/sec</th>\n",
       "      <th>Bytes Sent/sent</th>\n",
       "      <th>Received Bytes (HTTP)</th>\n",
       "      <th>Network packets sent</th>\n",
       "      <th>Network packets received</th>\n",
       "      <th>Pages Read/sec</th>\n",
       "      <th>Pages Input/sec</th>\n",
       "      <th>Page Errors/sec</th>\n",
       "      <th>Confirmed byte radius</th>\n",
       "      <th>Label</th>\n",
       "    </tr>\n",
       "  </thead>\n",
       "  <tbody>\n",
       "    <tr>\n",
       "      <th>0</th>\n",
       "      <td>ID_4W8AP96UO6</td>\n",
       "      <td>114.798900</td>\n",
       "      <td>3790.450939</td>\n",
       "      <td>28.0</td>\n",
       "      <td>0.427078</td>\n",
       "      <td>6.162365</td>\n",
       "      <td>21.220403</td>\n",
       "      <td>58.492773</td>\n",
       "      <td>63.959387</td>\n",
       "      <td>0.621206</td>\n",
       "      <td>0.521813</td>\n",
       "      <td>24.624612</td>\n",
       "      <td>0.0</td>\n",
       "      <td>1001.533430</td>\n",
       "      <td>27.190843</td>\n",
       "      <td>1</td>\n",
       "    </tr>\n",
       "    <tr>\n",
       "      <th>1</th>\n",
       "      <td>ID_UD3TM0ZYND</td>\n",
       "      <td>14.154240</td>\n",
       "      <td>5182.451722</td>\n",
       "      <td>28.0</td>\n",
       "      <td>0.138876</td>\n",
       "      <td>5.399498</td>\n",
       "      <td>0.000000</td>\n",
       "      <td>22.886762</td>\n",
       "      <td>29.508369</td>\n",
       "      <td>0.422183</td>\n",
       "      <td>0.444403</td>\n",
       "      <td>0.044440</td>\n",
       "      <td>0.0</td>\n",
       "      <td>1089.121009</td>\n",
       "      <td>30.150941</td>\n",
       "      <td>0</td>\n",
       "    </tr>\n",
       "    <tr>\n",
       "      <th>2</th>\n",
       "      <td>ID_XAG1HC0HWM</td>\n",
       "      <td>0.044444</td>\n",
       "      <td>120.821253</td>\n",
       "      <td>28.0</td>\n",
       "      <td>0.000000</td>\n",
       "      <td>1.577765</td>\n",
       "      <td>0.000000</td>\n",
       "      <td>11.733239</td>\n",
       "      <td>12.888786</td>\n",
       "      <td>0.177776</td>\n",
       "      <td>0.155554</td>\n",
       "      <td>0.044444</td>\n",
       "      <td>0.0</td>\n",
       "      <td>322.464081</td>\n",
       "      <td>28.163287</td>\n",
       "      <td>0</td>\n",
       "    </tr>\n",
       "    <tr>\n",
       "      <th>3</th>\n",
       "      <td>ID_CEXD05IR09</td>\n",
       "      <td>31.369916</td>\n",
       "      <td>127228.251100</td>\n",
       "      <td>31.0</td>\n",
       "      <td>0.523750</td>\n",
       "      <td>15.981107</td>\n",
       "      <td>5.356671</td>\n",
       "      <td>602.125436</td>\n",
       "      <td>6976.986795</td>\n",
       "      <td>3.311801</td>\n",
       "      <td>5.756755</td>\n",
       "      <td>5.623394</td>\n",
       "      <td>0.0</td>\n",
       "      <td>12015.169690</td>\n",
       "      <td>34.204404</td>\n",
       "      <td>0</td>\n",
       "    </tr>\n",
       "    <tr>\n",
       "      <th>4</th>\n",
       "      <td>ID_X6E97FT8IF</td>\n",
       "      <td>5.046181</td>\n",
       "      <td>1091.620117</td>\n",
       "      <td>25.0</td>\n",
       "      <td>0.069468</td>\n",
       "      <td>1.356022</td>\n",
       "      <td>0.000000</td>\n",
       "      <td>16.138887</td>\n",
       "      <td>13.271234</td>\n",
       "      <td>0.155609</td>\n",
       "      <td>0.133379</td>\n",
       "      <td>0.000000</td>\n",
       "      <td>0.0</td>\n",
       "      <td>550.989619</td>\n",
       "      <td>31.466889</td>\n",
       "      <td>1</td>\n",
       "    </tr>\n",
       "  </tbody>\n",
       "</table>\n",
       "</div>"
      ],
      "text/plain": [
       "              ID  I/O Data Operations   I/O Data Bytes  \\\n",
       "0  ID_4W8AP96UO6           114.798900      3790.450939   \n",
       "1  ID_UD3TM0ZYND            14.154240      5182.451722   \n",
       "2  ID_XAG1HC0HWM             0.044444       120.821253   \n",
       "3  ID_CEXD05IR09            31.369916    127228.251100   \n",
       "4  ID_X6E97FT8IF             5.046181      1091.620117   \n",
       "\n",
       "   Number of subprocesses  Time on processor  Disk Reading/sec  \\\n",
       "0                    28.0           0.427078          6.162365   \n",
       "1                    28.0           0.138876          5.399498   \n",
       "2                    28.0           0.000000          1.577765   \n",
       "3                    31.0           0.523750         15.981107   \n",
       "4                    25.0           0.069468          1.356022   \n",
       "\n",
       "   Disc Writing/sec  Bytes Sent/sent  Received Bytes (HTTP)  \\\n",
       "0         21.220403        58.492773              63.959387   \n",
       "1          0.000000        22.886762              29.508369   \n",
       "2          0.000000        11.733239              12.888786   \n",
       "3          5.356671       602.125436            6976.986795   \n",
       "4          0.000000        16.138887              13.271234   \n",
       "\n",
       "   Network packets sent  Network packets received  Pages Read/sec  \\\n",
       "0              0.621206                  0.521813       24.624612   \n",
       "1              0.422183                  0.444403        0.044440   \n",
       "2              0.177776                  0.155554        0.044444   \n",
       "3              3.311801                  5.756755        5.623394   \n",
       "4              0.155609                  0.133379        0.000000   \n",
       "\n",
       "   Pages Input/sec  Page Errors/sec  Confirmed byte radius  Label  \n",
       "0              0.0      1001.533430              27.190843      1  \n",
       "1              0.0      1089.121009              30.150941      0  \n",
       "2              0.0       322.464081              28.163287      0  \n",
       "3              0.0     12015.169690              34.204404      0  \n",
       "4              0.0       550.989619              31.466889      1  "
      ]
     },
     "execution_count": 53,
     "metadata": {},
     "output_type": "execute_result"
    }
   ],
   "source": [
    "%%time\n",
    "# Load files\n",
    "train = pd.read_csv('Train.csv')\n",
    "test = pd.read_csv('Test.csv')\n",
    "samplesubmission = pd.read_csv('SampleSubmission.csv')\n",
    "\n",
    "# Preview train dataset\n",
    "train.head()"
   ]
  },
  {
   "cell_type": "code",
   "execution_count": 54,
   "id": "b22eb3fe",
   "metadata": {},
   "outputs": [
    {
     "name": "stdout",
     "output_type": "stream",
     "text": [
      "Wall time: 0 ns\n"
     ]
    },
    {
     "data": {
      "text/html": [
       "<div>\n",
       "<style scoped>\n",
       "    .dataframe tbody tr th:only-of-type {\n",
       "        vertical-align: middle;\n",
       "    }\n",
       "\n",
       "    .dataframe tbody tr th {\n",
       "        vertical-align: top;\n",
       "    }\n",
       "\n",
       "    .dataframe thead th {\n",
       "        text-align: right;\n",
       "    }\n",
       "</style>\n",
       "<table border=\"1\" class=\"dataframe\">\n",
       "  <thead>\n",
       "    <tr style=\"text-align: right;\">\n",
       "      <th></th>\n",
       "      <th>ID</th>\n",
       "      <th>I/O Data Operations</th>\n",
       "      <th>I/O Data Bytes</th>\n",
       "      <th>Number of subprocesses</th>\n",
       "      <th>Time on processor</th>\n",
       "      <th>Disk Reading/sec</th>\n",
       "      <th>Disc Writing/sec</th>\n",
       "      <th>Bytes Sent/sent</th>\n",
       "      <th>Received Bytes (HTTP)</th>\n",
       "      <th>Network packets sent</th>\n",
       "      <th>Network packets received</th>\n",
       "      <th>Pages Read/sec</th>\n",
       "      <th>Pages Input/sec</th>\n",
       "      <th>Page Errors/sec</th>\n",
       "      <th>Confirmed byte radius</th>\n",
       "    </tr>\n",
       "  </thead>\n",
       "  <tbody>\n",
       "    <tr>\n",
       "      <th>0</th>\n",
       "      <td>ID_L7RNFK5JC9</td>\n",
       "      <td>32.709430</td>\n",
       "      <td>121124.141400</td>\n",
       "      <td>30.407359</td>\n",
       "      <td>0.496719</td>\n",
       "      <td>3.999064</td>\n",
       "      <td>0.000000</td>\n",
       "      <td>335.565884</td>\n",
       "      <td>737.338490</td>\n",
       "      <td>1.844013</td>\n",
       "      <td>1.910664</td>\n",
       "      <td>0.311038</td>\n",
       "      <td>0.0</td>\n",
       "      <td>726.318848</td>\n",
       "      <td>20.008686</td>\n",
       "    </tr>\n",
       "    <tr>\n",
       "      <th>1</th>\n",
       "      <td>ID_KUTY5K1G5F</td>\n",
       "      <td>2.065990</td>\n",
       "      <td>2029.713475</td>\n",
       "      <td>29.000000</td>\n",
       "      <td>0.000000</td>\n",
       "      <td>3.665467</td>\n",
       "      <td>0.000000</td>\n",
       "      <td>63.845771</td>\n",
       "      <td>41.119875</td>\n",
       "      <td>0.733093</td>\n",
       "      <td>0.577589</td>\n",
       "      <td>0.044430</td>\n",
       "      <td>0.0</td>\n",
       "      <td>385.473839</td>\n",
       "      <td>33.015399</td>\n",
       "    </tr>\n",
       "    <tr>\n",
       "      <th>2</th>\n",
       "      <td>ID_H6PJWKU831</td>\n",
       "      <td>114.524684</td>\n",
       "      <td>3888.550764</td>\n",
       "      <td>28.000000</td>\n",
       "      <td>0.486075</td>\n",
       "      <td>0.777719</td>\n",
       "      <td>0.199985</td>\n",
       "      <td>11.354698</td>\n",
       "      <td>11.332477</td>\n",
       "      <td>0.177764</td>\n",
       "      <td>0.133323</td>\n",
       "      <td>0.000000</td>\n",
       "      <td>0.0</td>\n",
       "      <td>504.828540</td>\n",
       "      <td>30.091141</td>\n",
       "    </tr>\n",
       "    <tr>\n",
       "      <th>3</th>\n",
       "      <td>ID_DNQXNVTXHE</td>\n",
       "      <td>27.036810</td>\n",
       "      <td>5581.324782</td>\n",
       "      <td>25.000000</td>\n",
       "      <td>0.314968</td>\n",
       "      <td>1.789015</td>\n",
       "      <td>0.000000</td>\n",
       "      <td>44.297028</td>\n",
       "      <td>13.430214</td>\n",
       "      <td>0.302369</td>\n",
       "      <td>0.125987</td>\n",
       "      <td>0.000000</td>\n",
       "      <td>0.0</td>\n",
       "      <td>465.950312</td>\n",
       "      <td>22.211252</td>\n",
       "    </tr>\n",
       "    <tr>\n",
       "      <th>4</th>\n",
       "      <td>ID_8CRTF1BJOD</td>\n",
       "      <td>1.177267</td>\n",
       "      <td>176.634467</td>\n",
       "      <td>28.000000</td>\n",
       "      <td>0.000000</td>\n",
       "      <td>1.710369</td>\n",
       "      <td>0.000000</td>\n",
       "      <td>88.161746</td>\n",
       "      <td>57.508380</td>\n",
       "      <td>0.888503</td>\n",
       "      <td>0.777440</td>\n",
       "      <td>0.000000</td>\n",
       "      <td>0.0</td>\n",
       "      <td>771.665166</td>\n",
       "      <td>31.032570</td>\n",
       "    </tr>\n",
       "  </tbody>\n",
       "</table>\n",
       "</div>"
      ],
      "text/plain": [
       "              ID  I/O Data Operations   I/O Data Bytes  \\\n",
       "0  ID_L7RNFK5JC9            32.709430    121124.141400   \n",
       "1  ID_KUTY5K1G5F             2.065990      2029.713475   \n",
       "2  ID_H6PJWKU831           114.524684      3888.550764   \n",
       "3  ID_DNQXNVTXHE            27.036810      5581.324782   \n",
       "4  ID_8CRTF1BJOD             1.177267       176.634467   \n",
       "\n",
       "   Number of subprocesses  Time on processor  Disk Reading/sec  \\\n",
       "0               30.407359           0.496719          3.999064   \n",
       "1               29.000000           0.000000          3.665467   \n",
       "2               28.000000           0.486075          0.777719   \n",
       "3               25.000000           0.314968          1.789015   \n",
       "4               28.000000           0.000000          1.710369   \n",
       "\n",
       "   Disc Writing/sec  Bytes Sent/sent  Received Bytes (HTTP)  \\\n",
       "0          0.000000       335.565884             737.338490   \n",
       "1          0.000000        63.845771              41.119875   \n",
       "2          0.199985        11.354698              11.332477   \n",
       "3          0.000000        44.297028              13.430214   \n",
       "4          0.000000        88.161746              57.508380   \n",
       "\n",
       "   Network packets sent  Network packets received  Pages Read/sec  \\\n",
       "0              1.844013                  1.910664        0.311038   \n",
       "1              0.733093                  0.577589        0.044430   \n",
       "2              0.177764                  0.133323        0.000000   \n",
       "3              0.302369                  0.125987        0.000000   \n",
       "4              0.888503                  0.777440        0.000000   \n",
       "\n",
       "   Pages Input/sec  Page Errors/sec  Confirmed byte radius  \n",
       "0              0.0       726.318848              20.008686  \n",
       "1              0.0       385.473839              33.015399  \n",
       "2              0.0       504.828540              30.091141  \n",
       "3              0.0       465.950312              22.211252  \n",
       "4              0.0       771.665166              31.032570  "
      ]
     },
     "execution_count": 54,
     "metadata": {},
     "output_type": "execute_result"
    }
   ],
   "source": [
    "%%time\n",
    "# Preview test dataset\n",
    "test.head()"
   ]
  },
  {
   "cell_type": "code",
   "execution_count": 55,
   "id": "cd6dd763",
   "metadata": {},
   "outputs": [
    {
     "name": "stdout",
     "output_type": "stream",
     "text": [
      "Wall time: 0 ns\n"
     ]
    },
    {
     "data": {
      "text/html": [
       "<div>\n",
       "<style scoped>\n",
       "    .dataframe tbody tr th:only-of-type {\n",
       "        vertical-align: middle;\n",
       "    }\n",
       "\n",
       "    .dataframe tbody tr th {\n",
       "        vertical-align: top;\n",
       "    }\n",
       "\n",
       "    .dataframe thead th {\n",
       "        text-align: right;\n",
       "    }\n",
       "</style>\n",
       "<table border=\"1\" class=\"dataframe\">\n",
       "  <thead>\n",
       "    <tr style=\"text-align: right;\">\n",
       "      <th></th>\n",
       "      <th>ID</th>\n",
       "      <th>Target</th>\n",
       "    </tr>\n",
       "  </thead>\n",
       "  <tbody>\n",
       "    <tr>\n",
       "      <th>0</th>\n",
       "      <td>ID_VT5SH34X8O</td>\n",
       "      <td>0</td>\n",
       "    </tr>\n",
       "    <tr>\n",
       "      <th>1</th>\n",
       "      <td>ID_4RQRV7XN3E</td>\n",
       "      <td>0</td>\n",
       "    </tr>\n",
       "    <tr>\n",
       "      <th>2</th>\n",
       "      <td>ID_1XCH999D2E</td>\n",
       "      <td>0</td>\n",
       "    </tr>\n",
       "    <tr>\n",
       "      <th>3</th>\n",
       "      <td>ID_J2ZBZIO0RW</td>\n",
       "      <td>0</td>\n",
       "    </tr>\n",
       "    <tr>\n",
       "      <th>4</th>\n",
       "      <td>ID_KG3PE5VXCN</td>\n",
       "      <td>0</td>\n",
       "    </tr>\n",
       "  </tbody>\n",
       "</table>\n",
       "</div>"
      ],
      "text/plain": [
       "              ID  Target\n",
       "0  ID_VT5SH34X8O       0\n",
       "1  ID_4RQRV7XN3E       0\n",
       "2  ID_1XCH999D2E       0\n",
       "3  ID_J2ZBZIO0RW       0\n",
       "4  ID_KG3PE5VXCN       0"
      ]
     },
     "execution_count": 55,
     "metadata": {},
     "output_type": "execute_result"
    }
   ],
   "source": [
    "%%time\n",
    "# Preview sample submission file\n",
    "samplesubmission.head()"
   ]
  },
  {
   "cell_type": "code",
   "execution_count": 56,
   "id": "477b0925",
   "metadata": {},
   "outputs": [
    {
     "name": "stdout",
     "output_type": "stream",
     "text": [
      "Wall time: 0 ns\n"
     ]
    },
    {
     "data": {
      "text/plain": [
       "((8908, 16), (3818, 15), (3818, 2))"
      ]
     },
     "execution_count": 56,
     "metadata": {},
     "output_type": "execute_result"
    }
   ],
   "source": [
    "%%time\n",
    "# Check size and shape of datasets\n",
    "train.shape, test.shape, samplesubmission.shape"
   ]
  },
  {
   "cell_type": "markdown",
   "id": "2bc8e846",
   "metadata": {},
   "source": [
    "3. Statistical Summaries"
   ]
  },
  {
   "cell_type": "code",
   "execution_count": 57,
   "id": "fcc00b32",
   "metadata": {},
   "outputs": [
    {
     "name": "stdout",
     "output_type": "stream",
     "text": [
      "Wall time: 40.9 ms\n"
     ]
    },
    {
     "data": {
      "text/html": [
       "<div>\n",
       "<style scoped>\n",
       "    .dataframe tbody tr th:only-of-type {\n",
       "        vertical-align: middle;\n",
       "    }\n",
       "\n",
       "    .dataframe tbody tr th {\n",
       "        vertical-align: top;\n",
       "    }\n",
       "\n",
       "    .dataframe thead th {\n",
       "        text-align: right;\n",
       "    }\n",
       "</style>\n",
       "<table border=\"1\" class=\"dataframe\">\n",
       "  <thead>\n",
       "    <tr style=\"text-align: right;\">\n",
       "      <th></th>\n",
       "      <th>I/O Data Operations</th>\n",
       "      <th>I/O Data Bytes</th>\n",
       "      <th>Number of subprocesses</th>\n",
       "      <th>Time on processor</th>\n",
       "      <th>Disk Reading/sec</th>\n",
       "      <th>Disc Writing/sec</th>\n",
       "      <th>Bytes Sent/sent</th>\n",
       "      <th>Received Bytes (HTTP)</th>\n",
       "      <th>Network packets sent</th>\n",
       "      <th>Network packets received</th>\n",
       "      <th>Pages Read/sec</th>\n",
       "      <th>Pages Input/sec</th>\n",
       "      <th>Page Errors/sec</th>\n",
       "      <th>Confirmed byte radius</th>\n",
       "      <th>Label</th>\n",
       "    </tr>\n",
       "  </thead>\n",
       "  <tbody>\n",
       "    <tr>\n",
       "      <th>count</th>\n",
       "      <td>8908.000000</td>\n",
       "      <td>8.908000e+03</td>\n",
       "      <td>8908.000000</td>\n",
       "      <td>8908.000000</td>\n",
       "      <td>8908.000000</td>\n",
       "      <td>8908.000000</td>\n",
       "      <td>8908.000000</td>\n",
       "      <td>8.908000e+03</td>\n",
       "      <td>8908.000000</td>\n",
       "      <td>8908.000000</td>\n",
       "      <td>8908.000000</td>\n",
       "      <td>8908.000000</td>\n",
       "      <td>8908.000000</td>\n",
       "      <td>8908.000000</td>\n",
       "      <td>8908.000000</td>\n",
       "    </tr>\n",
       "    <tr>\n",
       "      <th>mean</th>\n",
       "      <td>36.429205</td>\n",
       "      <td>1.135564e+05</td>\n",
       "      <td>29.811900</td>\n",
       "      <td>0.496405</td>\n",
       "      <td>5.353260</td>\n",
       "      <td>1.046153</td>\n",
       "      <td>559.546628</td>\n",
       "      <td>1.655804e+04</td>\n",
       "      <td>4.795485</td>\n",
       "      <td>12.625792</td>\n",
       "      <td>0.988036</td>\n",
       "      <td>0.004177</td>\n",
       "      <td>2779.178084</td>\n",
       "      <td>28.436192</td>\n",
       "      <td>0.269870</td>\n",
       "    </tr>\n",
       "    <tr>\n",
       "      <th>std</th>\n",
       "      <td>75.884647</td>\n",
       "      <td>4.896846e+05</td>\n",
       "      <td>5.691411</td>\n",
       "      <td>1.593626</td>\n",
       "      <td>19.286690</td>\n",
       "      <td>15.667814</td>\n",
       "      <td>1939.745234</td>\n",
       "      <td>9.042803e+04</td>\n",
       "      <td>20.797585</td>\n",
       "      <td>61.246541</td>\n",
       "      <td>12.495768</td>\n",
       "      <td>0.082923</td>\n",
       "      <td>4996.003166</td>\n",
       "      <td>3.970140</td>\n",
       "      <td>0.443917</td>\n",
       "    </tr>\n",
       "    <tr>\n",
       "      <th>min</th>\n",
       "      <td>0.000000</td>\n",
       "      <td>0.000000e+00</td>\n",
       "      <td>1.000000</td>\n",
       "      <td>0.000000</td>\n",
       "      <td>0.044459</td>\n",
       "      <td>0.000000</td>\n",
       "      <td>1.197890</td>\n",
       "      <td>1.554938e+00</td>\n",
       "      <td>0.022183</td>\n",
       "      <td>0.022183</td>\n",
       "      <td>0.000000</td>\n",
       "      <td>0.000000</td>\n",
       "      <td>16.143987</td>\n",
       "      <td>18.057942</td>\n",
       "      <td>0.000000</td>\n",
       "    </tr>\n",
       "    <tr>\n",
       "      <th>25%</th>\n",
       "      <td>1.394404</td>\n",
       "      <td>8.136318e+02</td>\n",
       "      <td>27.000000</td>\n",
       "      <td>0.000000</td>\n",
       "      <td>0.755629</td>\n",
       "      <td>0.000000</td>\n",
       "      <td>33.843800</td>\n",
       "      <td>2.737770e+01</td>\n",
       "      <td>0.399999</td>\n",
       "      <td>0.333225</td>\n",
       "      <td>0.000000</td>\n",
       "      <td>0.000000</td>\n",
       "      <td>351.620535</td>\n",
       "      <td>25.266134</td>\n",
       "      <td>0.000000</td>\n",
       "    </tr>\n",
       "    <tr>\n",
       "      <th>50%</th>\n",
       "      <td>11.613803</td>\n",
       "      <td>4.930482e+03</td>\n",
       "      <td>28.000000</td>\n",
       "      <td>0.034734</td>\n",
       "      <td>1.711077</td>\n",
       "      <td>0.000000</td>\n",
       "      <td>67.366295</td>\n",
       "      <td>8.905770e+01</td>\n",
       "      <td>0.710898</td>\n",
       "      <td>0.635705</td>\n",
       "      <td>0.022222</td>\n",
       "      <td>0.000000</td>\n",
       "      <td>682.943866</td>\n",
       "      <td>28.543826</td>\n",
       "      <td>0.000000</td>\n",
       "    </tr>\n",
       "    <tr>\n",
       "      <th>75%</th>\n",
       "      <td>34.494953</td>\n",
       "      <td>3.940357e+04</td>\n",
       "      <td>30.000000</td>\n",
       "      <td>0.451350</td>\n",
       "      <td>5.845619</td>\n",
       "      <td>0.022229</td>\n",
       "      <td>221.314810</td>\n",
       "      <td>5.613814e+02</td>\n",
       "      <td>1.555063</td>\n",
       "      <td>1.711155</td>\n",
       "      <td>0.088887</td>\n",
       "      <td>0.000000</td>\n",
       "      <td>1356.673217</td>\n",
       "      <td>30.969542</td>\n",
       "      <td>1.000000</td>\n",
       "    </tr>\n",
       "    <tr>\n",
       "      <th>max</th>\n",
       "      <td>1795.316255</td>\n",
       "      <td>4.677280e+06</td>\n",
       "      <td>51.000000</td>\n",
       "      <td>25.246148</td>\n",
       "      <td>1064.819285</td>\n",
       "      <td>831.503948</td>\n",
       "      <td>98097.784300</td>\n",
       "      <td>4.812144e+06</td>\n",
       "      <td>1118.878021</td>\n",
       "      <td>3183.701036</td>\n",
       "      <td>475.031124</td>\n",
       "      <td>2.955622</td>\n",
       "      <td>98031.408630</td>\n",
       "      <td>46.784800</td>\n",
       "      <td>1.000000</td>\n",
       "    </tr>\n",
       "  </tbody>\n",
       "</table>\n",
       "</div>"
      ],
      "text/plain": [
       "       I/O Data Operations   I/O Data Bytes  Number of subprocesses  \\\n",
       "count          8908.000000     8.908000e+03             8908.000000   \n",
       "mean             36.429205     1.135564e+05               29.811900   \n",
       "std              75.884647     4.896846e+05                5.691411   \n",
       "min               0.000000     0.000000e+00                1.000000   \n",
       "25%               1.394404     8.136318e+02               27.000000   \n",
       "50%              11.613803     4.930482e+03               28.000000   \n",
       "75%              34.494953     3.940357e+04               30.000000   \n",
       "max            1795.316255     4.677280e+06               51.000000   \n",
       "\n",
       "       Time on processor  Disk Reading/sec  Disc Writing/sec  Bytes Sent/sent  \\\n",
       "count        8908.000000       8908.000000       8908.000000      8908.000000   \n",
       "mean            0.496405          5.353260          1.046153       559.546628   \n",
       "std             1.593626         19.286690         15.667814      1939.745234   \n",
       "min             0.000000          0.044459          0.000000         1.197890   \n",
       "25%             0.000000          0.755629          0.000000        33.843800   \n",
       "50%             0.034734          1.711077          0.000000        67.366295   \n",
       "75%             0.451350          5.845619          0.022229       221.314810   \n",
       "max            25.246148       1064.819285        831.503948     98097.784300   \n",
       "\n",
       "       Received Bytes (HTTP)  Network packets sent  Network packets received  \\\n",
       "count           8.908000e+03           8908.000000               8908.000000   \n",
       "mean            1.655804e+04              4.795485                 12.625792   \n",
       "std             9.042803e+04             20.797585                 61.246541   \n",
       "min             1.554938e+00              0.022183                  0.022183   \n",
       "25%             2.737770e+01              0.399999                  0.333225   \n",
       "50%             8.905770e+01              0.710898                  0.635705   \n",
       "75%             5.613814e+02              1.555063                  1.711155   \n",
       "max             4.812144e+06           1118.878021               3183.701036   \n",
       "\n",
       "       Pages Read/sec  Pages Input/sec  Page Errors/sec  \\\n",
       "count     8908.000000      8908.000000      8908.000000   \n",
       "mean         0.988036         0.004177      2779.178084   \n",
       "std         12.495768         0.082923      4996.003166   \n",
       "min          0.000000         0.000000        16.143987   \n",
       "25%          0.000000         0.000000       351.620535   \n",
       "50%          0.022222         0.000000       682.943866   \n",
       "75%          0.088887         0.000000      1356.673217   \n",
       "max        475.031124         2.955622     98031.408630   \n",
       "\n",
       "       Confirmed byte radius        Label  \n",
       "count            8908.000000  8908.000000  \n",
       "mean               28.436192     0.269870  \n",
       "std                 3.970140     0.443917  \n",
       "min                18.057942     0.000000  \n",
       "25%                25.266134     0.000000  \n",
       "50%                28.543826     0.000000  \n",
       "75%                30.969542     1.000000  \n",
       "max                46.784800     1.000000  "
      ]
     },
     "execution_count": 57,
     "metadata": {},
     "output_type": "execute_result"
    }
   ],
   "source": [
    "%%time\n",
    "# Train statistical summary\n",
    "train.describe()"
   ]
  },
  {
   "cell_type": "code",
   "execution_count": 58,
   "id": "c6dee69f",
   "metadata": {},
   "outputs": [
    {
     "name": "stdout",
     "output_type": "stream",
     "text": [
      "<class 'pandas.core.frame.DataFrame'>\n",
      "RangeIndex: 8908 entries, 0 to 8907\n",
      "Data columns (total 16 columns):\n",
      " #   Column                    Non-Null Count  Dtype  \n",
      "---  ------                    --------------  -----  \n",
      " 0   ID                        8908 non-null   object \n",
      " 1   I/O Data Operations       8908 non-null   float64\n",
      " 2    I/O Data Bytes           8908 non-null   float64\n",
      " 3   Number of subprocesses    8908 non-null   float64\n",
      " 4   Time on processor         8908 non-null   float64\n",
      " 5   Disk Reading/sec          8908 non-null   float64\n",
      " 6   Disc Writing/sec          8908 non-null   float64\n",
      " 7   Bytes Sent/sent           8908 non-null   float64\n",
      " 8   Received Bytes (HTTP)     8908 non-null   float64\n",
      " 9   Network packets sent      8908 non-null   float64\n",
      " 10  Network packets received  8908 non-null   float64\n",
      " 11  Pages Read/sec            8908 non-null   float64\n",
      " 12  Pages Input/sec           8908 non-null   float64\n",
      " 13  Page Errors/sec           8908 non-null   float64\n",
      " 14  Confirmed byte radius     8908 non-null   float64\n",
      " 15  Label                     8908 non-null   int64  \n",
      "dtypes: float64(14), int64(1), object(1)\n",
      "memory usage: 1.1+ MB\n",
      "Wall time: 18 ms\n"
     ]
    }
   ],
   "source": [
    "%%time\n",
    "train.info()"
   ]
  },
  {
   "cell_type": "code",
   "execution_count": 59,
   "id": "1b7df309",
   "metadata": {},
   "outputs": [
    {
     "name": "stdout",
     "output_type": "stream",
     "text": [
      "Wall time: 6.98 ms\n"
     ]
    },
    {
     "data": {
      "text/plain": [
       "(False, False)"
      ]
     },
     "execution_count": 59,
     "metadata": {},
     "output_type": "execute_result"
    }
   ],
   "source": [
    "%%time\n",
    "# Check for missing values\n",
    "train.isnull().sum().any(), test.isnull().sum().any()"
   ]
  },
  {
   "cell_type": "code",
   "execution_count": 60,
   "id": "0530922e",
   "metadata": {},
   "outputs": [
    {
     "name": "stdout",
     "output_type": "stream",
     "text": [
      "Wall time: 28 ms\n"
     ]
    },
    {
     "data": {
      "text/plain": [
       "(False, False)"
      ]
     },
     "execution_count": 60,
     "metadata": {},
     "output_type": "execute_result"
    }
   ],
   "source": [
    "%%time\n",
    "# Check for duplicates\n",
    "train.duplicated().any(), test.duplicated().any()"
   ]
  },
  {
   "cell_type": "markdown",
   "id": "3daabd58",
   "metadata": {},
   "source": [
    "There are no missing values or duplicates"
   ]
  },
  {
   "cell_type": "markdown",
   "id": "6ac1236a",
   "metadata": {},
   "source": [
    "5. Target Distribution"
   ]
  },
  {
   "cell_type": "code",
   "execution_count": 61,
   "id": "3708418b",
   "metadata": {},
   "outputs": [
    {
     "data": {
      "image/png": "[encoded data removed]",
      "text/plain": [
       "<Figure size 864x432 with 1 Axes>"
      ]
     },
     "metadata": {},
     "output_type": "display_data"
    },
    {
     "name": "stdout",
     "output_type": "stream",
     "text": [
      "Wall time: 142 ms\n"
     ]
    }
   ],
   "source": [
    "%%time\n",
    "# A box plot showing outliers\n",
    "sns.set_style('darkgrid')\n",
    "plt.figure(figsize=(12, 6))\n",
    "sns.countplot(x = 'Label', data = train)\n",
    "plt.title('Target Variable Distribution')\n",
    "plt.show()"
   ]
  },
  {
   "cell_type": "markdown",
   "id": "877c5c2f",
   "metadata": {},
   "source": [
    "There is a class imbalance in our dataset, therefore we will find a way to address this"
   ]
  },
  {
   "cell_type": "code",
   "execution_count": 62,
   "id": "ebc20494",
   "metadata": {},
   "outputs": [
    {
     "data": {
      "image/png": "[encoded data removed]",
      "text/plain": [
       "<Figure size 1080x864 with 2 Axes>"
      ]
     },
     "metadata": {},
     "output_type": "display_data"
    }
   ],
   "source": [
    "# Plotting a heatmap to show correlations between variables\n",
    "corr = train.corr()\n",
    "plt.figure(figsize = (15, 12))\n",
    "sns.heatmap(corr, cmap='RdYlGn', annot = True, center = 0)\n",
    "plt.title('Correlogram', fontsize = 15, color = 'darkgreen')\n",
    "plt.show()"
   ]
  },
  {
   "cell_type": "markdown",
   "id": "069f9492",
   "metadata": {},
   "source": [
    "The features that are highly correlated to the the target variable are Number of subprocesses, Page Errors/sec, Confirmed byte radius"
   ]
  },
  {
   "cell_type": "markdown",
   "id": "e0ee1af8",
   "metadata": {},
   "source": [
    "6. Modeling¶"
   ]
  },
  {
   "cell_type": "code",
   "execution_count": 63,
   "id": "36c4f964",
   "metadata": {},
   "outputs": [
    {
     "name": "stdout",
     "output_type": "stream",
     "text": [
      "Wall time: 49.9 ms\n"
     ]
    }
   ],
   "source": [
    "%%time\n",
    "#scale numerical features for logistic model\n",
    "features = train.drop(columns=['ID','Label']).columns\n",
    "target = 'Label'\n",
    "\n",
    "# define standard scaler\n",
    "scaler = StandardScaler()\n",
    "\n",
    "# transform data\n",
    "train[features] = scaler.fit_transform(train[features])\n",
    "test[features] = scaler.transform(test[features])"
   ]
  },
  {
   "cell_type": "code",
   "execution_count": 64,
   "id": "972f2515",
   "metadata": {},
   "outputs": [
    {
     "name": "stdout",
     "output_type": "stream",
     "text": [
      "Wall time: 0 ns\n"
     ]
    },
    {
     "data": {
      "text/plain": [
       "Index(['ID', 'I/O Data Operations', ' I/O Data Bytes',\n",
       "       'Number of subprocesses', 'Time on processor', 'Disk Reading/sec',\n",
       "       'Disc Writing/sec', 'Bytes Sent/sent', 'Received Bytes (HTTP)',\n",
       "       'Network packets sent', 'Network packets received', 'Pages Read/sec',\n",
       "       'Pages Input/sec', 'Page Errors/sec', 'Confirmed byte radius', 'Label'],\n",
       "      dtype='object')"
      ]
     },
     "execution_count": 64,
     "metadata": {},
     "output_type": "execute_result"
    }
   ],
   "source": [
    "%%time\n",
    "train.columns"
   ]
  },
  {
   "cell_type": "code",
   "execution_count": 65,
   "id": "7a5a37e3",
   "metadata": {},
   "outputs": [
    {
     "name": "stdout",
     "output_type": "stream",
     "text": [
      "Wall time: 7.98 ms\n"
     ]
    }
   ],
   "source": [
    "%%time\n",
    "#split train data into train and validation set\n",
    "X_train, X_test, y_train, y_test = train_test_split(train[features], \n",
    "                                                    train[target].to_frame(),\n",
    "                                                    stratify=train[target], #to account for class imbalance\n",
    "                                                    test_size=0.3,\n",
    "                                                    random_state=SEED)"
   ]
  },
  {
   "cell_type": "code",
   "execution_count": 66,
   "id": "dfa9efe1",
   "metadata": {},
   "outputs": [],
   "source": [
    "#Specify our models\n",
    "\n",
    "lr = LogisticRegression()\n",
    "nb = GaussianNB()\n",
    "tree = DecisionTreeClassifier()\n",
    "forest = RandomForestClassifier()\n",
    "booster = XGBClassifier()\n",
    "\n",
    "models = [lr, nb, tree, forest, booster]"
   ]
  },
  {
   "cell_type": "code",
   "execution_count": 46,
   "id": "b1a63b51",
   "metadata": {},
   "outputs": [],
   "source": [
    "#fit logistic regression model on rrain data\n",
    "model = DecisionTreeClassifier()\n",
    "model.fit(X_train, y_train['Label'])\n",
    "\n",
    "#make predictions on validation set\n",
    "preds = model.predict(X_test)"
   ]
  },
  {
   "cell_type": "code",
   "execution_count": 70,
   "id": "7ae393d4",
   "metadata": {},
   "outputs": [],
   "source": [
    "from sklearn import metrics"
   ]
  },
  {
   "cell_type": "code",
   "execution_count": 71,
   "id": "0fde1a3e",
   "metadata": {},
   "outputs": [
    {
     "name": "stdout",
     "output_type": "stream",
     "text": [
      "LogisticRegression()\n",
      "              precision    recall  f1-score   support\n",
      "\n",
      "           0       0.77      0.98      0.86      1952\n",
      "           1       0.76      0.22      0.34       721\n",
      "\n",
      "    accuracy                           0.77      2673\n",
      "   macro avg       0.77      0.60      0.60      2673\n",
      "weighted avg       0.77      0.77      0.72      2673\n",
      "\n",
      "GaussianNB()\n",
      "              precision    recall  f1-score   support\n",
      "\n",
      "           0       0.73      0.95      0.83      1952\n",
      "           1       0.34      0.06      0.11       721\n",
      "\n",
      "    accuracy                           0.71      2673\n",
      "   macro avg       0.54      0.51      0.47      2673\n",
      "weighted avg       0.63      0.71      0.63      2673\n",
      "\n",
      "DecisionTreeClassifier()\n",
      "              precision    recall  f1-score   support\n",
      "\n",
      "           0       0.95      0.96      0.96      1952\n",
      "           1       0.89      0.87      0.88       721\n",
      "\n",
      "    accuracy                           0.94      2673\n",
      "   macro avg       0.92      0.92      0.92      2673\n",
      "weighted avg       0.94      0.94      0.94      2673\n",
      "\n",
      "RandomForestClassifier()\n"
     ]
    },
    {
     "name": "stderr",
     "output_type": "stream",
     "text": [
      "C:\\Users\\kiptanui\\anaconda3\\lib\\site-packages\\sklearn\\utils\\validation.py:1143: DataConversionWarning: A column-vector y was passed when a 1d array was expected. Please change the shape of y to (n_samples, ), for example using ravel().\n",
      "  y = column_or_1d(y, warn=True)\n",
      "C:\\Users\\kiptanui\\anaconda3\\lib\\site-packages\\sklearn\\utils\\validation.py:1143: DataConversionWarning: A column-vector y was passed when a 1d array was expected. Please change the shape of y to (n_samples, ), for example using ravel().\n",
      "  y = column_or_1d(y, warn=True)\n",
      "<ipython-input-71-873295bd7b0d>:4: DataConversionWarning: A column-vector y was passed when a 1d array was expected. Please change the shape of y to (n_samples,), for example using ravel().\n",
      "  model.fit(X_train, y_train)\n"
     ]
    },
    {
     "name": "stdout",
     "output_type": "stream",
     "text": [
      "              precision    recall  f1-score   support\n",
      "\n",
      "           0       0.97      0.98      0.97      1952\n",
      "           1       0.95      0.91      0.93       721\n",
      "\n",
      "    accuracy                           0.96      2673\n",
      "   macro avg       0.96      0.95      0.95      2673\n",
      "weighted avg       0.96      0.96      0.96      2673\n",
      "\n",
      "XGBClassifier(base_score=None, booster=None, callbacks=None,\n",
      "              colsample_bylevel=None, colsample_bynode=None,\n",
      "              colsample_bytree=None, early_stopping_rounds=None,\n",
      "              enable_categorical=False, eval_metric=None, feature_types=None,\n",
      "              gamma=None, gpu_id=None, grow_policy=None, importance_type=None,\n",
      "              interaction_constraints=None, learning_rate=None, max_bin=None,\n",
      "              max_cat_threshold=None, max_cat_to_onehot=None,\n",
      "              max_delta_step=None, max_depth=None, max_leaves=None,\n",
      "              min_child_weight=None, missing=nan, monotone_constraints=None,\n",
      "              n_estimators=100, n_jobs=None, num_parallel_tree=None,\n",
      "              predictor=None, random_state=None, ...)\n",
      "              precision    recall  f1-score   support\n",
      "\n",
      "           0       0.98      0.99      0.98      1952\n",
      "           1       0.97      0.94      0.96       721\n",
      "\n",
      "    accuracy                           0.98      2673\n",
      "   macro avg       0.98      0.97      0.97      2673\n",
      "weighted avg       0.98      0.98      0.98      2673\n",
      "\n"
     ]
    }
   ],
   "source": [
    "#Train models and evaluate\n",
    "for model in models:\n",
    "    print(model)\n",
    "    model.fit(X_train, y_train)\n",
    "    preds = model.predict(X_test)\n",
    "    print(metrics.classification_report(y_test, preds))\n",
    "   # print('-'*50)"
   ]
  },
  {
   "cell_type": "code",
   "execution_count": 78,
   "id": "92d4b37c",
   "metadata": {},
   "outputs": [],
   "source": [
    "#since the XGBoost has a better performance, we choose it\n",
    "model = XGBClassifier()\n",
    "X_train, X_test, y_train, y_test = train_test_split(train[features], train[target], test_size = 0.3, random_state = SEED)\n",
    "model.fit(X_train, y_train)\n",
    "predictions = model.predict(X_test)"
   ]
  },
  {
   "cell_type": "code",
   "execution_count": 79,
   "id": "4cff48e9",
   "metadata": {},
   "outputs": [],
   "source": [
    "#make predictions on test set\n",
    "test['Target'] = model.predict(test[features])"
   ]
  },
  {
   "cell_type": "code",
   "execution_count": 80,
   "id": "9094920d",
   "metadata": {},
   "outputs": [],
   "source": [
    "sub = test[['ID', 'Target']]"
   ]
  },
  {
   "cell_type": "code",
   "execution_count": 81,
   "id": "f6513a62",
   "metadata": {},
   "outputs": [],
   "source": [
    "sub.to_csv(\"D:/VOLUME E/DATA SCIENCE/INSIGHTS/Credit Card F raud Detection/UHA_23_crypto_3.csv\", index = False)"
   ]
  },
  {
   "cell_type": "code",
   "execution_count": null,
   "id": "ab04a487",
   "metadata": {},
   "outputs": [],
   "source": []
  }
 ],
 "metadata": {
  "kernelspec": {
   "display_name": "Python 3",
   "language": "python",
   "name": "python3"
  },
  "language_info": {
   "codemirror_mode": {
    "name": "ipython",
    "version": 3
   },
   "file_extension": ".py",
   "mimetype": "text/x-python",
   "name": "python",
   "nbconvert_exporter": "python",
   "pygments_lexer": "ipython3",
   "version": "3.8.8"
  }
 },
 "nbformat": 4,
 "nbformat_minor": 5
}
